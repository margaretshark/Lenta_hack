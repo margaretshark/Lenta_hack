{
 "cells": [
  {
   "cell_type": "code",
   "execution_count": 1,
   "metadata": {},
   "outputs": [],
   "source": [
    "import pandas as pd\n",
    "import numpy as np\n",
    "import pyarrow.parquet as pq\n",
    "\n",
    "import numpy as np\n",
    "from scipy.spatial.distance import cdist"
   ]
  },
  {
   "cell_type": "code",
   "execution_count": 10,
   "metadata": {},
   "outputs": [],
   "source": [
    "clients = pd.read_csv('./hack_data/clients.csv')\n",
    "materials = pd.read_csv('./hack_data/materials.csv')\n",
    "plants = pd.read_csv('./hack_data/plants.csv')\n",
    "transaction = pd.read_parquet('./hack_data/transactions.parquet')#[:10000]\n"
   ]
  },
  {
   "cell_type": "code",
   "execution_count": 48,
   "metadata": {},
   "outputs": [],
   "source": [
    "class Recomender:\n",
    "    def __init__(self, transaction, emb_size=64):\n",
    "        self.emb_size = emb_size\n",
    "        self.client_embs, self.mat_embs, self.mat2id, self.client2id = self.get_embeddings(transaction)\n",
    "        self.id2mat = dict((j, pl) for (pl, j) in self.mat2id.items())\n",
    "        self.id2client = dict((j, cl) for (cl, j) in self.client2id.items())\n",
    "        \n",
    "    def get_embeddings(self, transaction):\n",
    "        mat2id = dict((p,j) for j, p in enumerate(set(transaction.material)))\n",
    "        client2id = dict((c,j) for j, c in enumerate(set(transaction.client_id)))\n",
    "        gr = transaction.groupby(['material', 'client_id']).apply(lambda x: len(x))\n",
    "\n",
    "        M = np.zeros((len(client2id), len(mat2id)))\n",
    "\n",
    "        for (pl, cl), n in gr.iteritems():\n",
    "            M[client2id[cl], mat2id[pl]] = n\n",
    "\n",
    "        u, s, v = np.linalg.svd(M, full_matrices=False)\n",
    "        u = u * s[None]\n",
    "        u = u[:, :self.emb_size]\n",
    "        v = v[:self.emb_size]\n",
    "\n",
    "        u = u / np.linalg.norm(u, axis=-1)[:,None]\n",
    "        v = v / np.linalg.norm(v, axis=-1)[:,None]\n",
    "\n",
    "        return u, v.T, mat2id, client2id\n",
    "    \n",
    "    def get_material_chq(self, chq_materials):\n",
    "        chq_emb = np.array([self.mat_embs[recomender.mat2id[mat]] for mat in chq_materials])\n",
    "\n",
    "        d = cdist(chq_emb, self.mat_embs, metric='cosine').mean(0)\n",
    "        order = np.argsort(d)\n",
    "        closest_materials = [self.id2mat[j] for j in order]\n",
    "\n",
    "        for mat in closest_materials:\n",
    "            if mat not in chq_materials:\n",
    "                return mat"
   ]
  },
  {
   "cell_type": "code",
   "execution_count": 49,
   "metadata": {},
   "outputs": [
    {
     "name": "stderr",
     "output_type": "stream",
     "text": [
      "<ipython-input-48-cfc3a171ded9>:23: RuntimeWarning: invalid value encountered in true_divide\n",
      "  u = u / np.linalg.norm(u, axis=-1)[:,None]\n"
     ]
    }
   ],
   "source": [
    "recomender = Recomender(transaction)\n"
   ]
  },
  {
   "cell_type": "code",
   "execution_count": 53,
   "metadata": {},
   "outputs": [
    {
     "data": {
      "text/plain": [
       "'aa793dd5e70b40dcae2de57b001beb7a'"
      ]
     },
     "execution_count": 53,
     "metadata": {},
     "output_type": "execute_result"
    }
   ],
   "source": [
    "chqs = list(set(transaction.chq_id))\n",
    "chq_materials = transaction[transaction.chq_id == chqs[11]].material\n",
    "\n",
    "recomender.get_material_chq(list(chq_materials))"
   ]
  },
  {
   "cell_type": "code",
   "execution_count": null,
   "metadata": {},
   "outputs": [],
   "source": []
  }
 ],
 "metadata": {
  "kernelspec": {
   "display_name": "Python 3",
   "language": "python",
   "name": "python3"
  },
  "language_info": {
   "codemirror_mode": {
    "name": "ipython",
    "version": 3
   },
   "file_extension": ".py",
   "mimetype": "text/x-python",
   "name": "python",
   "nbconvert_exporter": "python",
   "pygments_lexer": "ipython3",
   "version": "3.7.7"
  }
 },
 "nbformat": 4,
 "nbformat_minor": 4
}
