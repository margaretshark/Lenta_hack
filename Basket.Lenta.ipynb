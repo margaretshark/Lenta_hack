{
 "cells": [
  {
   "cell_type": "code",
   "execution_count": 1,
   "metadata": {},
   "outputs": [],
   "source": [
    "import pandas as pd\n",
    "import numpy as np\n",
    "import pyarrow.parquet as pq\n",
    "import warnings\n",
    "warnings.filterwarnings('ignore')"
   ]
  },
  {
   "cell_type": "code",
   "execution_count": 2,
   "metadata": {},
   "outputs": [],
   "source": [
    "transactions_basket = pd.read_parquet('transactions.parquet')\n",
    "clients_basket = pd.read_csv('clients.csv')\n",
    "materials_basket = pd.read_csv('materials.csv')\n",
    "plants_basket = pd.read_csv('plants.csv')"
   ]
  },
  {
   "cell_type": "code",
   "execution_count": 3,
   "metadata": {},
   "outputs": [],
   "source": [
    "def max_number(df_max_number,sum_top_number):\n",
    "    x_top=0\n",
    "    max_num=0\n",
    "    while x_top <= sum_top_number and max_num<=40:\n",
    "        max_num=max_num+1\n",
    "        x_top=x_top+df_max_number['sum'].iloc[max_num]\n",
    "    return max_num"
   ]
  },
  {
   "cell_type": "code",
   "execution_count": 4,
   "metadata": {},
   "outputs": [],
   "source": [
    "def basket(day_top,sum_top,ta,gender,city,sale,transactions,clients,materials,plants):\n",
    "    if day_top[0].isalpha():\n",
    "        transaction_day=transactions.copy()\n",
    "        transaction_day['weekday'] = transaction_day['chq_date'].dt.weekday_name\n",
    "        transaction_day=transaction_day[transaction_day['weekday'].isin(day_top)]\n",
    "    else:\n",
    "        transaction_day=transactions[transactions['chq_date'].isin(day_top)]\n",
    "        \n",
    "    basket_plants = plants.loc[plants['city']==city]\n",
    "    transaction_day=transaction_day.loc[transaction_day['plant'].isin(basket_plants['plant'].to_list())]\n",
    "    clients['year']=2020-clients['birthyear']\n",
    "    basket_clients = clients.loc[(clients['gender']==gender)&(clients['year']>=int(ta.split('-')[0]))&(clients['year']<=int(ta.split('-')[1]))]\n",
    "    transaction_day=transaction_day.loc[transaction_day['client_id'].isin(basket_clients['client_id'].to_list())]\n",
    "    \n",
    "    transaction_day['sum']=transaction_day['sales_sum']/transaction_day['sales_count']\n",
    "    transaction_day=transaction_day.reset_index(drop=True)\n",
    "    \n",
    "    df_basket=pd.DataFrame()\n",
    "    \n",
    "    if sale=='Yes':\n",
    "        df_basket['material']=transaction_day['material'].unique()\n",
    "        replace_dict = dict(materials[['material','hier_level_4']].to_dict('split')['data'])\n",
    "        df_basket['hier_level_4'] = df_basket['material'].map(replace_dict)\n",
    "        transaction_day_i=transaction_day.loc[transaction_day['material'].isin(df_basket['material'].to_list())]\n",
    "        transaction_day_i=transaction_day_i.reset_index(drop=True)\n",
    "        df_basket['sum'] = df_basket['material'].map(transaction_day_i.groupby('material')['sum'].mean().to_dict())\n",
    "        df_basket.sort_values(by=['sum'], inplace=True)\n",
    "        df_basket=df_basket.reset_index(drop=True)\n",
    "        df_basket=df_basket.drop_duplicates(subset=['hier_level_4'])\n",
    "        df_basket=df_basket.reset_index(drop=True)\n",
    "    else:\n",
    "        df_basket['material']=transaction_day['material'].value_counts().index\n",
    "        replace_dict = dict(materials[['material','hier_level_4']].to_dict('split')['data'])\n",
    "        df_basket['hier_level_4'] = df_basket['material'].map(replace_dict)\n",
    "        df_basket=df_basket.drop_duplicates(subset=['hier_level_4'])\n",
    "        df_basket=df_basket.reset_index(drop=True)\n",
    "    \n",
    "    transaction_day_i=transaction_day.loc[transaction_day['material'].isin(df_basket['material'].to_list())]\n",
    "    transaction_day_i=transaction_day_i.reset_index(drop=True)\n",
    "    df_basket['sum'] = df_basket['material'].map(transaction_day_i.groupby('material')['sum'].mean().to_dict())\n",
    "    basket_num=max_number(df_basket,sum_top)\n",
    "    df_basket=df_basket[:basket_num]\n",
    "    return df_basket"
   ]
  },
  {
   "cell_type": "code",
   "execution_count": null,
   "metadata": {},
   "outputs": [],
   "source": []
  },
  {
   "cell_type": "code",
   "execution_count": 5,
   "metadata": {},
   "outputs": [],
   "source": [
    "day_basket = 'Saturday, Sunday'\n",
    "sum_basket = 1000\n",
    "ta_basket = '18-30'\n",
    "gender_basket = 'M'\n",
    "city_basket = 'Moscow'\n",
    "sale_basket = 'Yes'"
   ]
  },
  {
   "cell_type": "code",
   "execution_count": 6,
   "metadata": {},
   "outputs": [
    {
     "name": "stdout",
     "output_type": "stream",
     "text": [
      "material: 64004ccbb3a438ed6ce7617ff6c72574, sum: 1.0\n",
      "material: 9f5ad47b8471380dd1b941f08ee12666, sum: 1.0\n",
      "material: e0b38616dd99a58be17343b4d8acd219, sum: 1.0\n",
      "material: 89520a5deee68d04b2bb3b801f038807, sum: 1.35\n",
      "material: 42e60c523e459e862e0d8bed8e27c061, sum: 2.11\n",
      "material: f146597fc1898fee7318282969b0f0f8, sum: 2.99\n",
      "material: c0ad282d7bee5534257911d253b57d15, sum: 2.99\n",
      "material: 363e2efa53532cf576389ce199d99afd, sum: 3.49\n",
      "material: b75147feae4cf8ec07fb5f2cef855def, sum: 3.56\n",
      "material: bbe89e3c4c62d83d2ccb8849f8267dfa, sum: 4.89\n",
      "material: 916fff0c65d2714648ab38e0e7dabb31, sum: 4.99\n",
      "material: b2392e17a0afee9053fefe7bb6b90353, sum: 5.63\n",
      "material: 879afb402ee3477a5a9a86f9685021e1, sum: 5.89\n",
      "material: e246f11eb10a0699fa072cfc3280da43, sum: 6.0\n",
      "material: 7b47f4e1bf7081b47363949d7742fe02, sum: 6.5\n",
      "material: 3d7c4c11a9d015625225e2d38a9318ba, sum: 6.52\n",
      "material: cc34cf21efeee73ac2a689bfb8c2aea7, sum: 6.54\n",
      "material: e63000bb399c6c0b6e5bc244a2c4b11f, sum: 7.99\n",
      "material: 0479cc13e597b5f4cb7e5769a7e45569, sum: 7.99\n",
      "material: db1419672f26e00804e2d3734525ea0f, sum: 8.19\n",
      "material: e004ecf449a081e9133faf3e690609cb, sum: 8.29\n",
      "material: b959cffa80dcf2ed815aa22408c1d8b3, sum: 8.74\n",
      "material: d53383bb412c35085ce7ca09630ccaa4, sum: 8.89\n",
      "material: 9567da74a2259463bb36794d3890302c, sum: 8.89\n",
      "material: a1421362b1639e40868cc66b0aea0e22, sum: 8.99\n",
      "material: f48b2e8c06c6871b247cce89743fd5d5, sum: 9.0\n",
      "material: 8c5c8252176db96aaac8cf164bc0c321, sum: 9.0\n",
      "material: 61c20458a33ba42a8093a3d6cbdf0138, sum: 9.01\n",
      "material: b9d64aa0ff0a6c01ebda92c6b41a1bae, sum: 9.06\n",
      "material: 96604844958346fdacd07ddf002bf98d, sum: 9.37\n",
      "material: 6a87682ec6695806e5a8dce07fcffdd9, sum: 9.39\n",
      "material: e4923a41ff04ea3c2e3835eacbb53740, sum: 9.59\n",
      "material: cb3f9bd182e99ef91bd56e3ea99e157d, sum: 9.59\n",
      "material: 7fc80c9645c2e4a9656653d3c2c0f621, sum: 9.68\n",
      "material: 464d3c7d1bee926fb072ee530734f25d, sum: 9.72\n",
      "material: aa220bdbaef5f3fbae2e3d1820408627, sum: 9.79\n",
      "material: 27637ed10db1ee704c2a56d147bdea5e, sum: 9.89\n",
      "material: b83c6fc0cceb099616add3e040d7d403, sum: 9.89\n",
      "material: b4043dfcda4b54d9635d5ab1d2c00129, sum: 9.99\n",
      "material: 83ce0d6f0edcb969ae171b5e7e5ae849, sum: 9.99\n",
      "material: 15dc0fe980917877ae2b5162ad03ab75, sum: 9.99\n"
     ]
    }
   ],
   "source": [
    "data_basket=pd.DataFrame()\n",
    "data_basket=basket(day_basket.split(', '),sum_basket,ta_basket,gender_basket,city_basket,sale_basket,transactions_basket,clients_basket,materials_basket,plants_basket)\n",
    "for i in range(len(data_basket)):\n",
    "    print('material: '+data_basket['material'].iloc[i]+', sum: '+ str(data_basket['sum'].iloc[i].round(2)))"
   ]
  },
  {
   "cell_type": "code",
   "execution_count": null,
   "metadata": {},
   "outputs": [],
   "source": []
  }
 ],
 "metadata": {
  "kernelspec": {
   "display_name": "Python 3",
   "language": "python",
   "name": "python3"
  },
  "language_info": {
   "codemirror_mode": {
    "name": "ipython",
    "version": 3
   },
   "file_extension": ".py",
   "mimetype": "text/x-python",
   "name": "python",
   "nbconvert_exporter": "python",
   "pygments_lexer": "ipython3",
   "version": "3.7.7"
  }
 },
 "nbformat": 4,
 "nbformat_minor": 4
}
